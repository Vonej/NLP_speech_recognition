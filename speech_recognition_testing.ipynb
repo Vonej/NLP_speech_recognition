{
 "cells": [
  {
   "cell_type": "code",
   "execution_count": 2,
   "metadata": {
    "collapsed": true
   },
   "outputs": [
    {
     "data": {
      "text/plain": "\"I have too much watched with you but can perceive no truth in your report when was it she last one since his majesty went into the field I have seen her rise from her bed throw her night down upon her unlock her closet take forth paper fold it right upon it read it afterward seal it and return again to bed you sleep great perturbation in nature to receive at once the benefit of sleep and do the effects of what in this slumbery agitation besides her walking and other actual performance say that sir which I will not report after her you mean to me introduce most meet you should rather to you nor anyone having no witness to confirm my speech comes this is her very guys and upon my life fast our sleep observe her stinkles how Kim she by that light stood by her there's a light by her continually to her command you see your eyes are open but their sense is shut she doesn't know she rubs her hands she doesn't accustomed action with her to seem thus washing her hands I have known her continuing this a quarter of an hour here's a sponsorship speaks sit down what comes from outstand spot would I say one two why then this time to do it five my lord 5 has solder and a feared who knows it when none can call up power into account so much blood in here why it's really hands now be clean no more of that you are always the starting all the perfumes and Arabia will not sweetie for the dignity of the whole body disease has beyond my practice yet I have known those which have walked in her sleep will have died holy hands but on your neck down I tell you yet again bank was very he cannot come out of one's grave to it to bed there's nothing at the gate come come give me your hand to bed too bad infected Minds to their death pillows will discharge their secrets divine than the physician god god forgive us all look after her the means of all anoints still keep eyes on her so good night think they're not speak good\""
     },
     "execution_count": 2,
     "metadata": {},
     "output_type": "execute_result"
    }
   ],
   "source": [
    "import speech_recognition as spre\n",
    "\n",
    "recog = spre.Recognizer()\n",
    "\n",
    "sample_audio = spre.AudioFile(\"shakespear.wav\")\n",
    "\n",
    "with sample_audio as audio_file:\n",
    "    audio_content = recog.record(audio_file)\n",
    "\n",
    "recog.recognize_google(audio_content, key=None, language=\"en-US\", show_all=False)"
   ]
  },
  {
   "cell_type": "code",
   "execution_count": 3,
   "outputs": [
    {
     "data": {
      "text/plain": "['Microsoft Sound Mapper - Input',\n 'Microphone (High Definition Aud',\n 'Microsoft Sound Mapper - Output',\n 'Динамики (High Definition Audio',\n '1 - VG220Q (AMD High Definition',\n 'CABLE Input (VB-Audio Virtual C',\n 'Output (AMD HD Audio HDMI out #0)',\n 'Speakers (HD Audio Speaker)',\n 'Микрофон (HD Audio Mixed capture)',\n 'SPDIF Out (HD Audio SPDIF out)',\n 'CABLE Output (VB-Audio Point)',\n 'Speakers (VB-Audio Point)']"
     },
     "execution_count": 3,
     "metadata": {},
     "output_type": "execute_result"
    }
   ],
   "source": [
    "import speech_recognition as sr\n",
    "mic =sr.Microphone()\n",
    "sr.Microphone.list_microphone_names()"
   ],
   "metadata": {
    "collapsed": false,
    "pycharm": {
     "name": "#%%\n"
    }
   }
  },
  {
   "cell_type": "code",
   "execution_count": null,
   "outputs": [
    {
     "name": "stdout",
     "output_type": "stream",
     "text": [
      "Speak now...\n",
      "Ukrainian\n",
      "{'alternative': [{'transcript': 'шипшина', 'confidence': 0.92249876}], 'final': True}\n",
      "Ukrainian\n",
      "{'alternative': [{'transcript': 'скрипки', 'confidence': 0.097213566}, {'transcript': 'скільки'}, {'transcript': 'скрите'}, {'transcript': 'відкритки'}, {'transcript': 'скрепки'}], 'final': True}\n",
      "Ukrainian\n",
      "{'alternative': [{'transcript': 'Чики', 'confidence': 0.12866573}, {'transcript': 'щитки'}, {'transcript': 'штуки'}, {'transcript': 'щітки'}, {'transcript': 'щеки'}], 'final': True}\n",
      "Ukrainian\n",
      "{'alternative': [{'transcript': 'korean', 'confidence': 0.39204916}, {'transcript': 'carrion'}, {'transcript': 'Carry On'}, {'transcript': 'carrying'}, {'transcript': 'Korea'}], 'final': True}\n",
      "Ukrainian\n",
      "[]\n",
      "Ukrainian\n",
      "{'alternative': [{'transcript': 'как опу', 'confidence': 0.69271302}, {'transcript': 'как попу'}, {'transcript': 'как'}, {'transcript': 'как как'}, {'transcript': 'Как папу'}], 'final': True}\n",
      "Ukrainian\n",
      "[]\n",
      "Ukrainian\n",
      "[]\n",
      "Ukrainian\n",
      "[]\n",
      "Ukrainian\n",
      "[]\n",
      "Ukrainian\n",
      "[]\n",
      "Ukrainian\n",
      "[]\n",
      "Ukrainian\n",
      "[]\n",
      "Ukrainian\n",
      "[]\n",
      "Ukrainian\n",
      "[]\n",
      "Ukrainian\n",
      "[]\n",
      "Ukrainian\n",
      "[]\n",
      "Ukrainian\n",
      "[]\n",
      "Ukrainian\n",
      "[]\n",
      "Ukrainian\n",
      "[]\n",
      "Ukrainian\n",
      "[]\n",
      "Ukrainian\n",
      "[]\n",
      "Ukrainian\n",
      "[]\n",
      "Ukrainian\n",
      "[]\n",
      "Ukrainian\n",
      "[]\n",
      "Ukrainian\n",
      "[]\n",
      "Ukrainian\n",
      "[]\n",
      "Ukrainian\n",
      "[]\n",
      "Ukrainian\n",
      "[]\n",
      "Ukrainian\n",
      "[]\n",
      "Ukrainian\n",
      "[]\n",
      "Ukrainian\n",
      "[]\n",
      "Ukrainian\n",
      "[]\n",
      "Ukrainian\n",
      "[]\n",
      "Ukrainian\n",
      "[]\n",
      "Ukrainian\n",
      "[]\n",
      "Ukrainian\n",
      "[]\n",
      "Ukrainian\n",
      "[]\n",
      "Ukrainian\n",
      "[]\n",
      "Ukrainian\n",
      "[]\n",
      "Ukrainian\n",
      "[]\n",
      "Ukrainian\n",
      "[]\n",
      "Ukrainian\n",
      "[]\n",
      "Ukrainian\n",
      "[]\n",
      "Ukrainian\n",
      "[]\n",
      "Ukrainian\n",
      "[]\n",
      "Ukrainian\n",
      "[]\n",
      "Ukrainian\n",
      "[]\n",
      "Ukrainian\n",
      "[]\n",
      "Ukrainian\n",
      "[]\n",
      "Ukrainian\n",
      "[]\n",
      "Ukrainian\n",
      "[]\n",
      "Ukrainian\n",
      "[]\n",
      "Ukrainian\n",
      "[]\n",
      "Ukrainian\n",
      "[]\n",
      "Ukrainian\n",
      "[]\n",
      "Ukrainian\n",
      "[]\n",
      "Ukrainian\n",
      "[]\n",
      "Ukrainian\n",
      "[]\n",
      "Ukrainian\n",
      "[]\n",
      "Ukrainian\n",
      "[]\n",
      "Ukrainian\n",
      "[]\n",
      "Ukrainian\n",
      "[]\n",
      "Ukrainian\n",
      "[]\n",
      "Ukrainian\n",
      "[]\n",
      "Ukrainian\n",
      "[]\n",
      "Ukrainian\n",
      "[]\n",
      "Ukrainian\n",
      "[]\n",
      "Ukrainian\n",
      "[]\n",
      "Ukrainian\n",
      "[]\n",
      "Ukrainian\n",
      "[]\n",
      "Ukrainian\n",
      "[]\n",
      "Ukrainian\n",
      "[]\n",
      "Ukrainian\n",
      "[]\n",
      "Ukrainian\n",
      "[]\n",
      "Ukrainian\n",
      "[]\n",
      "Ukrainian\n",
      "[]\n",
      "Ukrainian\n",
      "[]\n",
      "Ukrainian\n",
      "[]\n",
      "Ukrainian\n",
      "[]\n",
      "Ukrainian\n",
      "[]\n",
      "Ukrainian\n",
      "[]\n",
      "Ukrainian\n",
      "[]\n",
      "Ukrainian\n",
      "[]\n",
      "Ukrainian\n",
      "[]\n",
      "Ukrainian\n",
      "[]\n",
      "Ukrainian\n",
      "[]\n",
      "Ukrainian\n",
      "[]\n",
      "Ukrainian\n",
      "[]\n",
      "Ukrainian\n",
      "[]\n",
      "Ukrainian\n",
      "[]\n",
      "Ukrainian\n",
      "[]\n",
      "Ukrainian\n",
      "[]\n",
      "Ukrainian\n",
      "[]\n",
      "Ukrainian\n",
      "[]\n"
     ]
    }
   ],
   "source": [
    "import speech_recognition as sr\n",
    "import keyboard\n",
    "\n",
    "recog = sr.Recognizer()\n",
    "\n",
    "with sr.Microphone() as source:\n",
    "    recog.adjust_for_ambient_noise(source)\n",
    "    print(\"Speak now...\")\n",
    "    audio = recog.listen(source)\n",
    "\n",
    "    while True:\n",
    "        try:\n",
    "            text = recog.recognize_google(audio, show_all=True, language='uk-UA')\n",
    "            print(\"Ukrainian\")\n",
    "            print(text)\n",
    "        except sr.UnknownValueError:\n",
    "            print(\"Could not understand audio\")\n",
    "        except sr.RequestError as e:\n",
    "            print(\"Could not request results from Google Speech Recognition service; {0}\".format(e))\n",
    "\n",
    "        # Check if the user has pressed the 'enter' key to stop recording\n",
    "        if keyboard.is_pressed('enter'):\n",
    "            break\n",
    "\n",
    "        # Listen for more audio input until the user stops recording\n",
    "        audio = recog.listen(source)\n"
   ],
   "metadata": {
    "collapsed": false,
    "pycharm": {
     "name": "#%%\n",
     "is_executing": true
    }
   }
  },
  {
   "cell_type": "code",
   "execution_count": 38,
   "outputs": [],
   "source": [
    "from speech_recognition.audio import shutil_which\n",
    "\n",
    "shutil_which(\"flac\")"
   ],
   "metadata": {
    "collapsed": false,
    "pycharm": {
     "name": "#%%\n"
    }
   }
  },
  {
   "cell_type": "code",
   "execution_count": 24,
   "outputs": [
    {
     "ename": "OSError",
     "evalue": "FLAC conversion utility not available - consider installing the FLAC command line application by running `apt-get install flac` or your operating system's equivalent",
     "output_type": "error",
     "traceback": [
      "\u001B[1;31m---------------------------------------------------------------------------\u001B[0m",
      "\u001B[1;31mOSError\u001B[0m                                   Traceback (most recent call last)",
      "Cell \u001B[1;32mIn[24], line 1\u001B[0m\n\u001B[1;32m----> 1\u001B[0m \u001B[38;5;28mprint\u001B[39m(\u001B[38;5;124m\"\u001B[39m\u001B[38;5;124mThe audio file contains: \u001B[39m\u001B[38;5;124m\"\u001B[39m \u001B[38;5;241m+\u001B[39m \u001B[43mrecog\u001B[49m\u001B[38;5;241;43m.\u001B[39;49m\u001B[43mrecognize_google\u001B[49m\u001B[43m(\u001B[49m\u001B[43maudio_content\u001B[49m\u001B[43m)\u001B[49m)\n",
      "File \u001B[1;32m~\\anaconda3\\envs\\workspace\\lib\\site-packages\\speech_recognition\\__init__.py:693\u001B[0m, in \u001B[0;36mRecognizer.recognize_google\u001B[1;34m(self, audio_data, key, language, pfilter, show_all, with_confidence)\u001B[0m\n\u001B[0;32m    690\u001B[0m \u001B[38;5;28;01massert\u001B[39;00m key \u001B[38;5;129;01mis\u001B[39;00m \u001B[38;5;28;01mNone\u001B[39;00m \u001B[38;5;129;01mor\u001B[39;00m \u001B[38;5;28misinstance\u001B[39m(key, \u001B[38;5;28mstr\u001B[39m), \u001B[38;5;124m\"\u001B[39m\u001B[38;5;124m``key`` must be ``None`` or a string\u001B[39m\u001B[38;5;124m\"\u001B[39m\n\u001B[0;32m    691\u001B[0m \u001B[38;5;28;01massert\u001B[39;00m \u001B[38;5;28misinstance\u001B[39m(language, \u001B[38;5;28mstr\u001B[39m), \u001B[38;5;124m\"\u001B[39m\u001B[38;5;124m``language`` must be a string\u001B[39m\u001B[38;5;124m\"\u001B[39m\n\u001B[1;32m--> 693\u001B[0m flac_data \u001B[38;5;241m=\u001B[39m \u001B[43maudio_data\u001B[49m\u001B[38;5;241;43m.\u001B[39;49m\u001B[43mget_flac_data\u001B[49m\u001B[43m(\u001B[49m\n\u001B[0;32m    694\u001B[0m \u001B[43m    \u001B[49m\u001B[43mconvert_rate\u001B[49m\u001B[38;5;241;43m=\u001B[39;49m\u001B[38;5;28;43;01mNone\u001B[39;49;00m\u001B[43m \u001B[49m\u001B[38;5;28;43;01mif\u001B[39;49;00m\u001B[43m \u001B[49m\u001B[43maudio_data\u001B[49m\u001B[38;5;241;43m.\u001B[39;49m\u001B[43msample_rate\u001B[49m\u001B[43m \u001B[49m\u001B[38;5;241;43m>\u001B[39;49m\u001B[38;5;241;43m=\u001B[39;49m\u001B[43m \u001B[49m\u001B[38;5;241;43m8000\u001B[39;49m\u001B[43m \u001B[49m\u001B[38;5;28;43;01melse\u001B[39;49;00m\u001B[43m \u001B[49m\u001B[38;5;241;43m8000\u001B[39;49m\u001B[43m,\u001B[49m\u001B[43m  \u001B[49m\u001B[38;5;66;43;03m# audio samples must be at least 8 kHz\u001B[39;49;00m\n\u001B[0;32m    695\u001B[0m \u001B[43m    \u001B[49m\u001B[43mconvert_width\u001B[49m\u001B[38;5;241;43m=\u001B[39;49m\u001B[38;5;241;43m2\u001B[39;49m\u001B[43m  \u001B[49m\u001B[38;5;66;43;03m# audio samples must be 16-bit\u001B[39;49;00m\n\u001B[0;32m    696\u001B[0m \u001B[43m\u001B[49m\u001B[43m)\u001B[49m\n\u001B[0;32m    697\u001B[0m \u001B[38;5;28;01mif\u001B[39;00m key \u001B[38;5;129;01mis\u001B[39;00m \u001B[38;5;28;01mNone\u001B[39;00m: key \u001B[38;5;241m=\u001B[39m \u001B[38;5;124m\"\u001B[39m\u001B[38;5;124mAIzaSyBOti4mM-6x9WDnZIjIeyEU21OpBXqWBgw\u001B[39m\u001B[38;5;124m\"\u001B[39m\n\u001B[0;32m    698\u001B[0m url \u001B[38;5;241m=\u001B[39m \u001B[38;5;124m\"\u001B[39m\u001B[38;5;124mhttp://www.google.com/speech-api/v2/recognize?\u001B[39m\u001B[38;5;132;01m{}\u001B[39;00m\u001B[38;5;124m\"\u001B[39m\u001B[38;5;241m.\u001B[39mformat(urlencode({\n\u001B[0;32m    699\u001B[0m     \u001B[38;5;124m\"\u001B[39m\u001B[38;5;124mclient\u001B[39m\u001B[38;5;124m\"\u001B[39m: \u001B[38;5;124m\"\u001B[39m\u001B[38;5;124mchromium\u001B[39m\u001B[38;5;124m\"\u001B[39m,\n\u001B[0;32m    700\u001B[0m     \u001B[38;5;124m\"\u001B[39m\u001B[38;5;124mlang\u001B[39m\u001B[38;5;124m\"\u001B[39m: language,\n\u001B[0;32m    701\u001B[0m     \u001B[38;5;124m\"\u001B[39m\u001B[38;5;124mkey\u001B[39m\u001B[38;5;124m\"\u001B[39m: key,\n\u001B[0;32m    702\u001B[0m     \u001B[38;5;124m\"\u001B[39m\u001B[38;5;124mpFilter\u001B[39m\u001B[38;5;124m\"\u001B[39m: pfilter\n\u001B[0;32m    703\u001B[0m }))\n",
      "File \u001B[1;32m~\\anaconda3\\envs\\workspace\\lib\\site-packages\\speech_recognition\\audio.py:232\u001B[0m, in \u001B[0;36mAudioData.get_flac_data\u001B[1;34m(self, convert_rate, convert_width)\u001B[0m\n\u001B[0;32m    230\u001B[0m \u001B[38;5;66;03m# run the FLAC converter with the WAV data to get the FLAC data\u001B[39;00m\n\u001B[0;32m    231\u001B[0m wav_data \u001B[38;5;241m=\u001B[39m \u001B[38;5;28mself\u001B[39m\u001B[38;5;241m.\u001B[39mget_wav_data(convert_rate, convert_width)\n\u001B[1;32m--> 232\u001B[0m flac_converter \u001B[38;5;241m=\u001B[39m \u001B[43mget_flac_converter\u001B[49m\u001B[43m(\u001B[49m\u001B[43m)\u001B[49m\n\u001B[0;32m    233\u001B[0m \u001B[38;5;28;01mif\u001B[39;00m (\n\u001B[0;32m    234\u001B[0m     os\u001B[38;5;241m.\u001B[39mname \u001B[38;5;241m==\u001B[39m \u001B[38;5;124m\"\u001B[39m\u001B[38;5;124mnt\u001B[39m\u001B[38;5;124m\"\u001B[39m\n\u001B[0;32m    235\u001B[0m ):  \u001B[38;5;66;03m# on Windows, specify that the process is to be started without showing a console window\u001B[39;00m\n\u001B[0;32m    236\u001B[0m     startup_info \u001B[38;5;241m=\u001B[39m subprocess\u001B[38;5;241m.\u001B[39mSTARTUPINFO()\n",
      "File \u001B[1;32m~\\anaconda3\\envs\\workspace\\lib\\site-packages\\speech_recognition\\audio.py:265\u001B[0m, in \u001B[0;36mget_flac_converter\u001B[1;34m()\u001B[0m\n\u001B[0;32m    263\u001B[0m flac_converter \u001B[38;5;241m=\u001B[39m shutil_which(\u001B[38;5;124m\"\u001B[39m\u001B[38;5;124mflac\u001B[39m\u001B[38;5;124m\"\u001B[39m)  \u001B[38;5;66;03m# check for installed version first\u001B[39;00m\n\u001B[0;32m    264\u001B[0m \u001B[38;5;28;01mif\u001B[39;00m flac_converter \u001B[38;5;129;01mis\u001B[39;00m \u001B[38;5;28;01mNone\u001B[39;00m:  \u001B[38;5;66;03m# flac utility is not installed\u001B[39;00m\n\u001B[1;32m--> 265\u001B[0m     \u001B[38;5;28;01mraise\u001B[39;00m \u001B[38;5;167;01mOSError\u001B[39;00m(\n\u001B[0;32m    266\u001B[0m         \u001B[38;5;124m\"\u001B[39m\u001B[38;5;124mFLAC conversion utility not available - consider installing the FLAC command line application by running `apt-get install flac` or your operating system\u001B[39m\u001B[38;5;124m'\u001B[39m\u001B[38;5;124ms equivalent\u001B[39m\u001B[38;5;124m\"\u001B[39m\n\u001B[0;32m    267\u001B[0m     )\n\u001B[0;32m    269\u001B[0m \u001B[38;5;66;03m# mark FLAC converter as executable if possible\u001B[39;00m\n\u001B[0;32m    270\u001B[0m \u001B[38;5;28;01mtry\u001B[39;00m:\n\u001B[0;32m    271\u001B[0m     \u001B[38;5;66;03m# handle known issue when running on docker:\u001B[39;00m\n\u001B[0;32m    272\u001B[0m     \u001B[38;5;66;03m# run executable right after chmod() may result in OSError \"Text file busy\"\u001B[39;00m\n\u001B[0;32m    273\u001B[0m     \u001B[38;5;66;03m# fix: flush FS with sync\u001B[39;00m\n",
      "\u001B[1;31mOSError\u001B[0m: FLAC conversion utility not available - consider installing the FLAC command line application by running `apt-get install flac` or your operating system's equivalent"
     ]
    }
   ],
   "source": [],
   "metadata": {
    "collapsed": false,
    "pycharm": {
     "name": "#%%\n"
    }
   }
  },
  {
   "cell_type": "code",
   "execution_count": 35,
   "outputs": [
    {
     "name": "stdout",
     "output_type": "stream",
     "text": [
      "Path is: C:\\Users\\Vonej\\anaconda3\\envs\\workspace;C:\\Users\\Vonej\\anaconda3\\envs\\workspace\\Library\\mingw-w64\\bin;C:\\Users\\Vonej\\anaconda3\\envs\\workspace\\Library\\usr\\bin;C:\\Users\\Vonej\\anaconda3\\envs\\workspace\\Library\\bin;C:\\Users\\Vonej\\anaconda3\\envs\\workspace\\Scripts;C:\\Users\\Vonej\\anaconda3\\envs\\workspace\\bin;C:\\Users\\Vonej\\anaconda3\\condabin;C:\\Program Files\\Microsoft MPI\\Bin;C:\\Users\\Vonej\\AppData\\Local\\Programs\\Python\\Python39\\Scripts;C:\\Users\\Vonej\\AppData\\Local\\Programs\\Python\\Python39;C:\\Program Files\\Common Files\\Oracle\\Java\\javapath;C:\\Program Files (x86)\\NVIDIA Corporation\\PhysX\\Common;C:\\Program Files (x86)\\Common Files\\Oracle\\Java\\javapath;C:\\WINDOWS\\system32;C:\\WINDOWS;C:\\WINDOWS\\System32\\Wbem;C:\\WINDOWS\\System32\\WindowsPowerShell\\v1.0;C:\\WINDOWS\\System32\\OpenSSH;C:\\TDM-GCC-64\\bin;C:\\Program Files\\nodejs;C:\\ProgramData\\chocolatey\\bin;C:\\Program Files\\Microsoft SQL Server\\Client SDK\\ODBC\\170\\Tools\\Binn;C:\\Program Files (x86)\\Microsoft SQL Server\\150\\Tools\\Binn;C:\\Program Files\\Microsoft SQL Server\\150\\Tools\\Binn;C:\\Program Files\\Microsoft SQL Server\\150\\DTS\\Binn;C:\\Program Files (x86)\\Microsoft SQL Server\\150\\DTS\\Binn;C:\\Program Files\\Azure Data Studio\\bin;C:\\Program Files\\PostgreSQL\\14\\bin;C:\\Program Files\\Docker\\Docker\\resources\\bin;C:\\ProgramData\\DockerDesktop\\version-bin;C:\\Program Files\\Git\\cmd;C:\\Program Files\\dotnet;C:\\Program Files (x86)\\Microsoft SQL Server\\160\\Tools\\Binn;C:\\Program Files\\Microsoft SQL Server\\160\\Tools\\Binn;C:\\Program Files\\Microsoft SQL Server\\160\\DTS\\Binn;C:\\Program Files (x86)\\flac-1.4.2-win\\Win64;C:\\Program Files (x86)\\flac-1.4.2-win;C:\\Users\\Vonej\\AppData\\Local\\Microsoft\\WindowsApps;C:\\Program Files\\JetBrains\\PyCharm Community Edition 2020.2.4\\bin;C:\\Users\\Vonej\\AppData\\Roaming\\npm;C:\\Users\\Vonej\\AppData\\Local\\GitHubDesktop\\bin;C:\\Program Files\\JetBrains\\DataSpell 2021.3\\bin;C:\\texlive\\2022\\bin\\win32\n",
      "shutil_which gives location: C:\\Users\\Vonej\\anaconda3\\envs\\workspace\\Library\\bin\\flac.exe\n"
     ]
    }
   ],
   "source": [
    "import os\n",
    "path = os.getenv('PATH')\n",
    "print(\"Path is: %s\" % (path,))\n",
    "print(\"shutil_which gives location: %s\" % (sr.audio.shutil_which('flac.exe')))"
   ],
   "metadata": {
    "collapsed": false,
    "pycharm": {
     "name": "#%%\n"
    }
   }
  },
  {
   "cell_type": "code",
   "execution_count": 10,
   "outputs": [
    {
     "ename": "NameError",
     "evalue": "name 'get_flac_converter' is not defined",
     "output_type": "error",
     "traceback": [
      "\u001B[1;31m---------------------------------------------------------------------------\u001B[0m",
      "\u001B[1;31mNameError\u001B[0m                                 Traceback (most recent call last)",
      "Cell \u001B[1;32mIn[10], line 1\u001B[0m\n\u001B[1;32m----> 1\u001B[0m \u001B[43mget_flac_converter\u001B[49m()\n",
      "\u001B[1;31mNameError\u001B[0m: name 'get_flac_converter' is not defined"
     ]
    }
   ],
   "source": [
    "get_flac_converter()"
   ],
   "metadata": {
    "collapsed": false,
    "pycharm": {
     "name": "#%%\n"
    }
   }
  },
  {
   "cell_type": "code",
   "execution_count": 5,
   "outputs": [
    {
     "name": "stdout",
     "output_type": "stream",
     "text": [
      "Path is: C:\\Users\\Vonej\\anaconda3\\envs\\workspace;C:\\Users\\Vonej\\anaconda3\\envs\\workspace\\Library\\mingw-w64\\bin;C:\\Users\\Vonej\\anaconda3\\envs\\workspace\\Library\\usr\\bin;C:\\Users\\Vonej\\anaconda3\\envs\\workspace\\Library\\bin;C:\\Users\\Vonej\\anaconda3\\envs\\workspace\\Scripts;C:\\Users\\Vonej\\anaconda3\\envs\\workspace\\bin;C:\\Users\\Vonej\\anaconda3\\condabin;C:\\Program Files\\Microsoft MPI\\Bin;C:\\Users\\Vonej\\AppData\\Local\\Programs\\Python\\Python39\\Scripts;C:\\Users\\Vonej\\AppData\\Local\\Programs\\Python\\Python39;C:\\Program Files\\Common Files\\Oracle\\Java\\javapath;C:\\Program Files (x86)\\NVIDIA Corporation\\PhysX\\Common;C:\\Program Files (x86)\\Common Files\\Oracle\\Java\\javapath;C:\\WINDOWS\\system32;C:\\WINDOWS;C:\\WINDOWS\\System32\\Wbem;C:\\WINDOWS\\System32\\WindowsPowerShell\\v1.0;C:\\WINDOWS\\System32\\OpenSSH;C:\\TDM-GCC-64\\bin;C:\\Program Files\\nodejs;C:\\ProgramData\\chocolatey\\bin;C:\\Program Files\\Microsoft SQL Server\\Client SDK\\ODBC\\170\\Tools\\Binn;C:\\Program Files (x86)\\Microsoft SQL Server\\150\\Tools\\Binn;C:\\Program Files\\Microsoft SQL Server\\150\\Tools\\Binn;C:\\Program Files\\Microsoft SQL Server\\150\\DTS\\Binn;C:\\Program Files (x86)\\Microsoft SQL Server\\150\\DTS\\Binn;C:\\Program Files\\Azure Data Studio\\bin;C:\\Program Files\\PostgreSQL\\14\\bin;C:\\Program Files\\Docker\\Docker\\resources\\bin;C:\\ProgramData\\DockerDesktop\\version-bin;C:\\Program Files\\Git\\cmd;C:\\Program Files\\dotnet;C:\\Program Files (x86)\\Microsoft SQL Server\\160\\Tools\\Binn;C:\\Program Files\\Microsoft SQL Server\\160\\Tools\\Binn;C:\\Program Files\\Microsoft SQL Server\\160\\DTS\\Binn;C:\\Users\\Vonej\\AppData\\Local\\Microsoft\\WindowsApps;C:\\Program Files\\JetBrains\\PyCharm Community Edition 2020.2.4\\bin;.;C:\\Users\\Vonej\\AppData\\Roaming\\npm;C:\\Users\\Vonej\\AppData\\Local\\GitHubDesktop\\bin;C:\\Program Files\\Azure Data Studio\\bin;C:\\Program Files\\JetBrains\\DataSpell 2021.3\\bin;.;C:\\Program Files\\PostgreSQL\\14\\bin;C:\\texlive\\2022\\bin\\win32\n"
     ]
    },
    {
     "ename": "AttributeError",
     "evalue": "module 'speech_recognition' has no attribute 'shutil_which'",
     "output_type": "error",
     "traceback": [
      "\u001B[1;31m---------------------------------------------------------------------------\u001B[0m",
      "\u001B[1;31mAttributeError\u001B[0m                            Traceback (most recent call last)",
      "Cell \u001B[1;32mIn[5], line 4\u001B[0m\n\u001B[0;32m      2\u001B[0m path \u001B[38;5;241m=\u001B[39m os\u001B[38;5;241m.\u001B[39mgetenv(\u001B[38;5;124m'\u001B[39m\u001B[38;5;124mPATH\u001B[39m\u001B[38;5;124m'\u001B[39m)\n\u001B[0;32m      3\u001B[0m \u001B[38;5;28mprint\u001B[39m(\u001B[38;5;124m\"\u001B[39m\u001B[38;5;124mPath is: \u001B[39m\u001B[38;5;132;01m%s\u001B[39;00m\u001B[38;5;124m\"\u001B[39m \u001B[38;5;241m%\u001B[39m (path,))\n\u001B[1;32m----> 4\u001B[0m \u001B[38;5;28mprint\u001B[39m(\u001B[38;5;124m\"\u001B[39m\u001B[38;5;124mshutil_which gives location: \u001B[39m\u001B[38;5;132;01m%s\u001B[39;00m\u001B[38;5;124m\"\u001B[39m \u001B[38;5;241m%\u001B[39m (\u001B[43msr\u001B[49m\u001B[38;5;241;43m.\u001B[39;49m\u001B[43mshutil_which\u001B[49m(\u001B[38;5;124m'\u001B[39m\u001B[38;5;124mflac\u001B[39m\u001B[38;5;124m'\u001B[39m)))\n",
      "\u001B[1;31mAttributeError\u001B[0m: module 'speech_recognition' has no attribute 'shutil_which'"
     ]
    }
   ],
   "source": [
    "import os\n",
    "path = os.getenv('PATH')\n",
    "print(\"Path is: %s\" % (path,))\n",
    "print(\"shutil_which gives location: %s\" % (sr.shutil_which('flac')))"
   ],
   "metadata": {
    "collapsed": false,
    "pycharm": {
     "name": "#%%\n"
    }
   }
  },
  {
   "cell_type": "code",
   "execution_count": null,
   "outputs": [],
   "source": [
    "sample_audio = sr.AudioFile('E:/Datasets/my_audio.wav')"
   ],
   "metadata": {
    "collapsed": false,
    "pycharm": {
     "name": "#%%\n"
    }
   }
  }
 ],
 "metadata": {
  "kernelspec": {
   "display_name": "Python 3",
   "language": "python",
   "name": "python3"
  },
  "language_info": {
   "codemirror_mode": {
    "name": "ipython",
    "version": 2
   },
   "file_extension": ".py",
   "mimetype": "text/x-python",
   "name": "python",
   "nbconvert_exporter": "python",
   "pygments_lexer": "ipython2",
   "version": "2.7.6"
  }
 },
 "nbformat": 4,
 "nbformat_minor": 0
}